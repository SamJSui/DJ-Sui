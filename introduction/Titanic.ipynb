{
  "nbformat": 4,
  "nbformat_minor": 0,
  "metadata": {
    "colab": {
      "name": "Titanic.ipynb",
      "provenance": [],
      "authorship_tag": "ABX9TyPNhvPf1B92JX8kOS3PjArR",
      "include_colab_link": true
    },
    "kernelspec": {
      "name": "python3",
      "display_name": "Python 3"
    },
    "language_info": {
      "name": "python"
    }
  },
  "cells": [
    {
      "cell_type": "markdown",
      "metadata": {
        "id": "view-in-github",
        "colab_type": "text"
      },
      "source": [
        "<a href=\"https://colab.research.google.com/github/SamJSui/DJ-Sui/blob/main/introduction/Titanic.ipynb\" target=\"_parent\"><img src=\"https://colab.research.google.com/assets/colab-badge.svg\" alt=\"Open In Colab\"/></a>"
      ]
    },
    {
      "cell_type": "code",
      "metadata": {
        "id": "EfJ4FhXgl-v8"
      },
      "source": [
        "import pandas as pd # data processing \n",
        "import numpy as np # linear algebra"
      ],
      "execution_count": 57,
      "outputs": []
    },
    {
      "cell_type": "code",
      "metadata": {
        "id": "L0PPeXdMmW2r"
      },
      "source": [
        "train_data = pd.read_csv('train.csv') # Read CSVs (given by Kaggle.com)\n",
        "test_data = pd.read_csv('test.csv')"
      ],
      "execution_count": 62,
      "outputs": []
    },
    {
      "cell_type": "code",
      "metadata": {
        "id": "iiw15Inwm8PK"
      },
      "source": [
        "features = ['Pclass', \"Sex\", \"SibSp\", \"Parch\"] # features is equal to a columns of input data\n",
        "train_x = pd.get_dummies(train_data[features]) # training data is set to a different x value\n",
        "test_x = pd.get_dummies(test_data[features]) # test_x will be used in predictions\n",
        "y = train_data[\"Survived\"] # Target"
      ],
      "execution_count": 64,
      "outputs": []
    },
    {
      "cell_type": "code",
      "metadata": {
        "colab": {
          "base_uri": "https://localhost:8080/"
        },
        "id": "ToryklPaoDkt",
        "outputId": "dbc6d8eb-a72b-425c-bdd7-66a8fd815e79"
      },
      "source": [
        "from sklearn.ensemble import RandomForestClassifier # Imports RandomForestClassifier model from SKLearn\n",
        "model = RandomForestClassifier(n_estimators=100, max_depth=10, random_state=1)\n",
        "model.fit(train_x, y) # Fits model to the training data\n",
        "model.predict(test_x)\n",
        "model.score(train_x, y) # Model has an 81.7% accuracy"
      ],
      "execution_count": 65,
      "outputs": [
        {
          "output_type": "execute_result",
          "data": {
            "text/plain": [
              "0.8170594837261503"
            ]
          },
          "metadata": {},
          "execution_count": 65
        }
      ]
    }
  ]
}